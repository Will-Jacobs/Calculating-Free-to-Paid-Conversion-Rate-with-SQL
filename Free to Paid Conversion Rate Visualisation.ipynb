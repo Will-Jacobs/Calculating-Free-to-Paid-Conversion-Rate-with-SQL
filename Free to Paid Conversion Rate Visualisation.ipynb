{
 "cells": [
  {
   "cell_type": "code",
   "execution_count": 75,
   "id": "84e28152",
   "metadata": {},
   "outputs": [],
   "source": [
    "import numpy as np\n",
    "from scipy import stats"
   ]
  },
  {
   "cell_type": "code",
   "execution_count": 76,
   "id": "a62c0e45",
   "metadata": {},
   "outputs": [],
   "source": [
    "data = np.genfromtxt('Calculating Free-to-Paid Conversion Rate with SQL.csv', delimiter = ',', skip_header = True)"
   ]
  },
  {
   "cell_type": "code",
   "execution_count": 77,
   "id": "381210ef",
   "metadata": {},
   "outputs": [
    {
     "data": {
      "text/plain": [
       "array([[2.55193e+05,         nan,         nan,         nan, 0.00000e+00,\n",
       "                nan],\n",
       "       [2.55194e+05,         nan,         nan,         nan, 0.00000e+00,\n",
       "                nan],\n",
       "       [2.55198e+05,         nan,         nan,         nan, 7.80000e+01,\n",
       "                nan],\n",
       "       ...,\n",
       "       [2.57543e+05,         nan,         nan,         nan, 0.00000e+00,\n",
       "                nan],\n",
       "       [2.57544e+05,         nan,         nan,         nan, 0.00000e+00,\n",
       "                nan],\n",
       "       [2.57545e+05,         nan,         nan,         nan, 3.00000e+00,\n",
       "                nan]])"
      ]
     },
     "execution_count": 77,
     "metadata": {},
     "output_type": "execute_result"
    }
   ],
   "source": [
    "data"
   ]
  },
  {
   "cell_type": "code",
   "execution_count": 89,
   "id": "f2636352",
   "metadata": {},
   "outputs": [
    {
     "data": {
      "text/plain": [
       "28.14"
      ]
     },
     "execution_count": 89,
     "metadata": {},
     "output_type": "execute_result"
    }
   ],
   "source": [
    "all_mean = np.nanmean(data[:,5], axis = 0)\n",
    "all_mean"
   ]
  },
  {
   "cell_type": "code",
   "execution_count": 79,
   "id": "a7309a28",
   "metadata": {},
   "outputs": [],
   "source": [
    "days_diff_reg_watch_mean = np.nanmean(data[:,4])\n",
    "days_diff_reg_watch_median = np.nanmedian(data[:,4])\n",
    "days_diff_reg_watch_mode = stats.mode(data[:,4], keepdims = True)"
   ]
  },
  {
   "cell_type": "code",
   "execution_count": 80,
   "id": "0b7213fc",
   "metadata": {},
   "outputs": [],
   "source": [
    "days_diff_watch_purch_mean = np.nanmean(data[:,5])\n",
    "days_diff_watch_purch_median = np.nanmedian(data[:,5])\n",
    "days_diff_watch_purch_mode = stats.mode(data[:,5], keepdims = True)"
   ]
  },
  {
   "cell_type": "code",
   "execution_count": 81,
   "id": "60d6c110",
   "metadata": {},
   "outputs": [
    {
     "name": "stdout",
     "output_type": "stream",
     "text": [
      "Days between registration and first video watched\n",
      "Mean: 8.708\n",
      "Median: 0.0\n",
      "Mode: [0.]\n"
     ]
    }
   ],
   "source": [
    "print('Days between registration and first video watched')\n",
    "print(f'Mean: {days_diff_reg_watch_mean}')\n",
    "print(f'Median: {days_diff_reg_watch_median}')\n",
    "print(f'Mode: {days_diff_reg_watch_mode.mode}')"
   ]
  },
  {
   "cell_type": "code",
   "execution_count": 82,
   "id": "a8606d2f",
   "metadata": {},
   "outputs": [
    {
     "name": "stdout",
     "output_type": "stream",
     "text": [
      "Days between first video watched and purchase made\n",
      "Mean: 28.14\n",
      "Median: 0.0\n",
      "Mode: [nan]\n"
     ]
    }
   ],
   "source": [
    "print('Days between first video watched and purchase made')\n",
    "print(f'Mean: {days_diff_watch_purch_mean}')\n",
    "print(f'Median: {days_diff_watch_purch_median}')\n",
    "print(f'Mode: {days_diff_watch_purch_mode.mode}')"
   ]
  },
  {
   "cell_type": "code",
   "execution_count": null,
   "id": "bf05921a",
   "metadata": {},
   "outputs": [],
   "source": []
  },
  {
   "cell_type": "code",
   "execution_count": null,
   "id": "91713a2b",
   "metadata": {},
   "outputs": [],
   "source": []
  }
 ],
 "metadata": {
  "kernelspec": {
   "display_name": "Python 3 (ipykernel)",
   "language": "python",
   "name": "python3"
  },
  "language_info": {
   "codemirror_mode": {
    "name": "ipython",
    "version": 3
   },
   "file_extension": ".py",
   "mimetype": "text/x-python",
   "name": "python",
   "nbconvert_exporter": "python",
   "pygments_lexer": "ipython3",
   "version": "3.10.9"
  }
 },
 "nbformat": 4,
 "nbformat_minor": 5
}
